{
 "cells": [
  {
   "cell_type": "code",
   "execution_count": 5,
   "id": "1934514f-2480-4ab3-a134-f2fcbb7e62fd",
   "metadata": {},
   "outputs": [],
   "source": [
    "from bs4 import BeautifulSoup\n",
    "import requests\n",
    "import pandas as pd\n",
    "import matplotlib.pyplot as plt\n",
    "%matplotlib inline\n",
    "import numpy as np\n",
    "import pickle\n",
    "import tensorflow as tf\n",
    "import time"
   ]
  },
  {
   "cell_type": "code",
   "execution_count": 6,
   "id": "ef59abaa-79be-4cc5-a719-4685f82ca78c",
   "metadata": {},
   "outputs": [],
   "source": [
    "def reviewsByGrade(URL, reviews_by_grade):\n",
    "    '''\n",
    "        DOC STRING\n",
    "    '''\n",
    "    \n",
    "    text = BeautifulSoup(requests.get(URL).content, \"html.parser\").get_text().split(\"\\n\") # get just the text from the URL\n",
    "\n",
    "    try:\n",
    "        text = text[text.index('Follow @rxgau')+5:]\n",
    "\n",
    "    except:\n",
    "        print(URL)\n",
    "    \n",
    "    for i in text:\n",
    "        if len(i) > 100: # we only want the reviews, and we only want reviews of sufficient length (since these are capsule reviews, some are only a few words, and we want to exclude these\n",
    "            review, grade = i.rsplit(' ', 1)\n",
    "            \n",
    "            if grade == '***':\n",
    "                grade = 'B+'\n",
    "            if grade == '**':\n",
    "                grade = 'B'\n",
    "            if grade == '*':\n",
    "                grade = 'B-'\n",
    "            if grade == 'N':\n",
    "                grade = 'B-'\n",
    "            if grade == 'S':\n",
    "                grade = 'C+'\n",
    "            if grade == 'X':\n",
    "                grade = 'C+'\n",
    "\n",
    "            if grade in grades: # some reviews are ungraded - don't consider these\n",
    "                if grade not in reviews_by_grade:\n",
    "                    reviews_by_grade[grade] = [review]\n",
    "                else:\n",
    "                    reviews_by_grade[grade].append(review)"
   ]
  },
  {
   "cell_type": "code",
   "execution_count": 7,
   "id": "27f1e89c-5307-471c-9fb0-16dc0ee27fca",
   "metadata": {},
   "outputs": [],
   "source": [
    "reviews_by_grade = {}"
   ]
  },
  {
   "cell_type": "code",
   "execution_count": 8,
   "id": "c470fd75-0b5c-424b-a286-a9b9ca669f78",
   "metadata": {},
   "outputs": [],
   "source": [
    "grades = {\"A+\":97,\n",
    "          \"A\":93,\n",
    "          \"A-\":90,\n",
    "          \"B+\":87,\n",
    "          \"B\":83,\n",
    "          \"B-\":80,\n",
    "          \"C+\":77,\n",
    "          \"C\":73,\n",
    "          \"C-\":70,\n",
    "          \"D+\":67,\n",
    "          \"D\":63,\n",
    "          \"D-\":60,\n",
    "          \"E+\":57,\n",
    "          \"E\":53,\n",
    "          \"E-\":50}"
   ]
  },
  {
   "cell_type": "code",
   "execution_count": 9,
   "id": "c714addb-9586-4b38-92d2-4ae1322e1985",
   "metadata": {},
   "outputs": [
    {
     "name": "stdout",
     "output_type": "stream",
     "text": [
      "\n",
      "\n",
      "It took 2253.829670906067 seconds to scrape all that data and create 1 dictionary to store it!\n"
     ]
    }
   ],
   "source": [
    "# let's time how long it takes to scrape all these URLs!\n",
    "start_time = time.time()\n",
    "\n",
    "# scrape our data\n",
    "for i in range(1, 10000):\n",
    "    reviewsByGrade(\"https://www.robertchristgau.com/get_artist.php?id=\" + str(i), reviews_by_grade)\n",
    "    \n",
    "print()\n",
    "print()\n",
    "print(f\"It took {time.time() - start_time} seconds to scrape all that data and create 1 dictionary to store it!\")"
   ]
  },
  {
   "cell_type": "code",
   "execution_count": 10,
   "id": "868a1bee-90fd-4fbb-8913-02cc74ccb6cb",
   "metadata": {},
   "outputs": [
    {
     "data": {
      "text/plain": [
       "\"\\nwith open('SentimentAnalysisData.pickle', 'rb') as handle:\\n    reviews_by_grade = pickle.load(handle)\\n\""
      ]
     },
     "execution_count": 10,
     "metadata": {},
     "output_type": "execute_result"
    }
   ],
   "source": [
    "# save data\n",
    "\n",
    "with open('SentimentAnalysisData1.pickle', 'wb') as handle:\n",
    "    pickle.dump(reviews_by_grade, handle, protocol=pickle.HIGHEST_PROTOCOL)\n",
    "    \n",
    "# loads data\n",
    "'''\n",
    "with open('SentimentAnalysisData.pickle', 'rb') as handle:\n",
    "    reviews_by_grade = pickle.load(handle)\n",
    "'''"
   ]
  },
  {
   "cell_type": "code",
   "execution_count": 11,
   "id": "cb0be9b2-4891-48eb-996d-95f92e266e2e",
   "metadata": {},
   "outputs": [],
   "source": [
    "# convert reviews by grade into grades by review for dataframe purposes\n",
    "grades_by_review = {}\n",
    "for k, v in reviews_by_grade.items():\n",
    "    for review in v:\n",
    "        grades_by_review[review] = k\n",
    "grades_df = pd.DataFrame.from_dict(grades_by_review,orient='index').reset_index().rename({'index': 'review', 0: 'grade'}, axis=1)  # new method"
   ]
  },
  {
   "cell_type": "code",
   "execution_count": 12,
   "id": "d688bf45",
   "metadata": {},
   "outputs": [],
   "source": [
    "grades_df['random'] = np.random.normal(size = len(grades_df))"
   ]
  },
  {
   "cell_type": "code",
   "execution_count": 36,
   "id": "738f7986-0fe5-455a-ad0e-1f3b4f628f81",
   "metadata": {},
   "outputs": [
    {
     "name": "stdout",
     "output_type": "stream",
     "text": [
      "A 897\n",
      "A+ 121\n",
      "A- 3349\n",
      "B 2211\n",
      "B+ 3124\n",
      "B- 1792\n",
      "C 417\n",
      "C+ 856\n",
      "C- 229\n",
      "D 57\n",
      "D+ 91\n",
      "D- 19\n",
      "E 13\n",
      "E+ 4\n",
      "E- 2\n",
      "total: 13182\n"
     ]
    }
   ],
   "source": [
    "# let's see how many reviews we have per grade\n",
    "my_sum = 0\n",
    "for grade in sorted(list(reviews_by_grade.keys())):\n",
    "    length = len(reviews_by_grade[grade])\n",
    "    print(grade, length)\n",
    "    my_sum += length\n",
    "\n",
    "print(f'total: {my_sum}')"
   ]
  },
  {
   "cell_type": "code",
   "execution_count": 14,
   "id": "6cb591d2-56a9-4918-af76-527935c89d5a",
   "metadata": {},
   "outputs": [
    {
     "data": {
      "image/png": "[encoded data removed]",
      "text/plain": [
       "<Figure size 800x600 with 1 Axes>"
      ]
     },
     "metadata": {},
     "output_type": "display_data"
    }
   ],
   "source": [
    "# actually, this might be a prettier way of doing it\n",
    "import matplotlib.pyplot as plt\n",
    "plt.figure(figsize=(8,6))\n",
    "plt.title('count of reviews by grade')\n",
    "grades_df.groupby('grade').review.count().plot.bar(ylim=0)\n",
    "plt.show()"
   ]
  },
  {
   "cell_type": "code",
   "execution_count": 15,
   "id": "8e6a9a85-d3d5-4843-b75e-6169f2744ac6",
   "metadata": {},
   "outputs": [],
   "source": [
    "# I don't like the way the x-axis is sorted - let's group by num_grades, which will give us the same result, but in a way where it's easier to see the distribution of grades\n",
    "# convert the grades to numerical so we can properly sort it, and so \n",
    "grades = {\"A+\":97,\n",
    "          \"A\":93,\n",
    "          \"A-\":90,\n",
    "          \"B+\":87,\n",
    "          \"B\":83,\n",
    "          \"B-\":80,\n",
    "          \"C+\":77,\n",
    "          \"C\":73,\n",
    "          \"C-\":70,\n",
    "          \"D+\":67,\n",
    "          \"D\":63,\n",
    "          \"D-\":60,\n",
    "          \"E+\":57,\n",
    "          \"E\":53,\n",
    "          \"E-\":50}\n",
    "grades_df['num_grades'] = grades_df['grade'].map(grades)"
   ]
  },
  {
   "cell_type": "code",
   "execution_count": 16,
   "id": "3bb9999c-6c22-4f66-b50f-2a7fa3c8797a",
   "metadata": {},
   "outputs": [
    {
     "data": {
      "image/png": "[encoded data removed]",
      "text/plain": [
       "<Figure size 800x600 with 1 Axes>"
      ]
     },
     "metadata": {},
     "output_type": "display_data"
    }
   ],
   "source": [
    "# plot with numerical grades\n",
    "plt.figure(figsize=(8,6))\n",
    "plt.title('count of reviews by grade (numerical)')\n",
    "grades_df.groupby('num_grades').review.count().plot.bar(ylim=0)\n",
    "plt.show()"
   ]
  },
  {
   "cell_type": "markdown",
   "id": "623caad0",
   "metadata": {},
   "source": [
    "I've been reading Christgau's reviews for a while. The reason I decided to embark on this analysis is because I often find myself completely unable to understand his reviews, let alone be able to infer from the review what the grade was. His references are frequent and esoteric, and the dense and complex vocabulary is employs can border on unreadable. Oftentimes I'll think I'm reading a C-range review only to get to the end and see it's in the A-range. I want to see if a computer could do any better than me.\n",
    "\n",
    "What grade do you think Christgau gave to Moby's Play [1999]:\n",
    "\n",
    "    \"I doubt the hyperactive little imp sat down and \"composed\" here. There are no reports he even strove to unify à la DJ Shadow. And Endtroducing . . . is the reference point nevertheless. It's because Moby still loves song form that he elects to sample Alan Lomax field recordings rather than garage-sale instrumental and spoken-word LPs. But though the blues and gospel and more gospel testify not just for song but for body and spirit, they wouldn't shout anywhere near as loud and clear without the mastermind's ministrations--his grooves, his pacing, his textures, his harmonies, sometimes his tunes, and mostly his grooves, which honor not just dance music but the entire rock tradition it's part of. Although the futurist's dream of Blind Willie Johnson that opens this complete work was some kind of hit in England, here it'll be strictly for aesthetes. We've earned it.\"\n",
    "    \n",
    "Our rough hypothesis: A computer can't do any better than me at predicting the grade of the review given the text of the review."
   ]
  },
  {
   "cell_type": "code",
   "execution_count": 17,
   "id": "73adac93",
   "metadata": {
    "scrolled": true
   },
   "outputs": [],
   "source": [
    "from sklearn.model_selection import train_test_split\n",
    "x_train, x_test, y_train, y_test = train_test_split(grades_df['review'],grades_df['num_grades'],\n",
    "                                   test_size=0.15, \n",
    "                                   shuffle=True)\n",
    "# by default, AutoKeras use the last 20% of training data as validation data\n",
    "# we keep our own test set to avoid overfitting"
   ]
  },
  {
   "cell_type": "code",
   "execution_count": 18,
   "id": "47501301",
   "metadata": {},
   "outputs": [],
   "source": [
    "x_train = np.array(x_train)\n",
    "y_train = np.array(y_train)\n",
    "x_test = np.array(x_test)\n",
    "y_test = np.array(y_test)"
   ]
  },
  {
   "cell_type": "code",
   "execution_count": 19,
   "id": "c68d4891",
   "metadata": {},
   "outputs": [
    {
     "name": "stdout",
     "output_type": "stream",
     "text": [
      "(11204,)\n",
      "(11204,)\n",
      "With Willie Mitchell performing the Booker T. function, Hi of Memphis has turned into a pocket of naivete (or reaction) (or traditionalism) on the confused black pop scene. Green plays the boyish Sam Cooke supplicant--or maybe a smooth Otis Redding, or an assertive Smokey Robinson--with the startling is-that-a-synthesizer? high note that climaxes \"Tired of Being Alone\" serving as a trademark. He also covers the Doors, the Temptations, Roosevelt Sykes, and the gospel-phase Johnnie Taylor. And closes out side two with some greasy hard funk like you just don't hear anymore.\n"
     ]
    }
   ],
   "source": [
    "print(x_train.shape)\n",
    "print(y_train.shape)\n",
    "print(x_train[10])"
   ]
  },
  {
   "cell_type": "code",
   "execution_count": 20,
   "id": "29edbbac",
   "metadata": {},
   "outputs": [],
   "source": [
    "# https://autokeras.com/tutorial/text_regression/\n",
    "import autokeras\n",
    "from autokeras import TextRegressor"
   ]
  },
  {
   "cell_type": "code",
   "execution_count": 21,
   "id": "bc3dbc05",
   "metadata": {},
   "outputs": [
    {
     "name": "stdout",
     "output_type": "stream",
     "text": [
      "Trial 10 Complete [11h 40m 10s]\n",
      "val_loss: 38.62653732299805\n",
      "\n",
      "Best val_loss So Far: 29.36252784729004\n",
      "Total elapsed time: 11h 47m 58s\n",
      "INFO:tensorflow:Oracle triggered exit\n",
      "Epoch 1/5\n",
      "351/351 [==============================] - 10s 28ms/step - loss: 352.3302 - mean_squared_error: 352.3302\n",
      "Epoch 2/5\n",
      "351/351 [==============================] - 10s 28ms/step - loss: 24.3342 - mean_squared_error: 24.3342\n",
      "Epoch 3/5\n",
      "351/351 [==============================] - 10s 28ms/step - loss: 21.4666 - mean_squared_error: 21.4666\n",
      "Epoch 4/5\n",
      "351/351 [==============================] - 10s 29ms/step - loss: 19.3385 - mean_squared_error: 19.3385\n",
      "Epoch 5/5\n",
      "351/351 [==============================] - 10s 29ms/step - loss: 16.6878 - mean_squared_error: 16.6878\n"
     ]
    },
    {
     "name": "stderr",
     "output_type": "stream",
     "text": [
      "WARNING:absl:Found untraced functions such as _jit_compiled_convolution_op, _jit_compiled_convolution_op, _jit_compiled_convolution_op, _jit_compiled_convolution_op while saving (showing 4 of 4). These functions will not be directly callable after loading.\n"
     ]
    },
    {
     "name": "stdout",
     "output_type": "stream",
     "text": [
      "INFO:tensorflow:Assets written to: ./text_regressor/best_model/assets\n"
     ]
    },
    {
     "name": "stderr",
     "output_type": "stream",
     "text": [
      "INFO:tensorflow:Assets written to: ./text_regressor/best_model/assets\n"
     ]
    },
    {
     "data": {
      "text/plain": [
       "<keras.callbacks.History at 0x7f892afd38e0>"
      ]
     },
     "execution_count": 21,
     "metadata": {},
     "output_type": "execute_result"
    }
   ],
   "source": [
    "text_reg = TextRegressor(overwrite=True, max_trials=10)\n",
    "text_reg.fit(x_train, y_train, epochs=5)"
   ]
  },
  {
   "cell_type": "code",
   "execution_count": 22,
   "id": "c720dbc2",
   "metadata": {},
   "outputs": [
    {
     "name": "stdout",
     "output_type": "stream",
     "text": [
      "62/62 [==============================] - 1s 8ms/step\n",
      "62/62 [==============================] - 1s 8ms/step\n"
     ]
    }
   ],
   "source": [
    "y_pred = text_reg.predict(x_test)"
   ]
  },
  {
   "cell_type": "code",
   "execution_count": 23,
   "id": "2afc037f",
   "metadata": {},
   "outputs": [],
   "source": [
    "from sklearn.metrics import r2_score\n",
    "r2 = r2_score(y_test, y_pred)"
   ]
  },
  {
   "cell_type": "code",
   "execution_count": 26,
   "id": "78b87598-a03c-4e16-b2ab-a0a1728c8719",
   "metadata": {},
   "outputs": [
    {
     "data": {
      "text/plain": [
       "-0.041925824413770574"
      ]
     },
     "execution_count": 26,
     "metadata": {},
     "output_type": "execute_result"
    }
   ],
   "source": [
    "r2"
   ]
  },
  {
   "cell_type": "markdown",
   "id": "055f4b86",
   "metadata": {},
   "source": [
    "It doesn't look like there's a pattern...but let's take the average of this and 3 more regressions just to make sure our results didn't come from some weird slicing of the data\n",
    "\n",
    "Each time we run the below loop, we reassign the train/val/test sets"
   ]
  },
  {
   "cell_type": "code",
   "execution_count": 24,
   "id": "b053ed3f",
   "metadata": {},
   "outputs": [
    {
     "name": "stdout",
     "output_type": "stream",
     "text": [
      "Trial 10 Complete [00h 00m 10s]\n",
      "val_loss: 36.57345199584961\n",
      "\n",
      "Best val_loss So Far: 36.08848571777344\n",
      "Total elapsed time: 00h 01m 29s\n",
      "INFO:tensorflow:Oracle triggered exit\n"
     ]
    },
    {
     "name": "stderr",
     "output_type": "stream",
     "text": [
      "INFO:tensorflow:Oracle triggered exit\n"
     ]
    },
    {
     "name": "stdout",
     "output_type": "stream",
     "text": [
      "Epoch 1/5\n",
      "351/351 [==============================] - 2s 6ms/step - loss: 447.4321 - mean_squared_error: 447.4321\n",
      "Epoch 2/5\n",
      "351/351 [==============================] - 2s 6ms/step - loss: 28.5334 - mean_squared_error: 28.5334\n",
      "Epoch 3/5\n",
      "351/351 [==============================] - 2s 6ms/step - loss: 24.4540 - mean_squared_error: 24.4540\n",
      "Epoch 4/5\n",
      "351/351 [==============================] - 2s 6ms/step - loss: 22.7526 - mean_squared_error: 22.7526\n",
      "Epoch 5/5\n",
      "351/351 [==============================] - 2s 6ms/step - loss: 20.2296 - mean_squared_error: 20.2296\n"
     ]
    },
    {
     "name": "stderr",
     "output_type": "stream",
     "text": [
      "WARNING:absl:Found untraced functions such as _jit_compiled_convolution_op, _jit_compiled_convolution_op, _jit_compiled_convolution_op, _jit_compiled_convolution_op while saving (showing 4 of 4). These functions will not be directly callable after loading.\n"
     ]
    },
    {
     "name": "stdout",
     "output_type": "stream",
     "text": [
      "INFO:tensorflow:Assets written to: ./text_regressor/best_model/assets\n"
     ]
    },
    {
     "name": "stderr",
     "output_type": "stream",
     "text": [
      "INFO:tensorflow:Assets written to: ./text_regressor/best_model/assets\n"
     ]
    },
    {
     "name": "stdout",
     "output_type": "stream",
     "text": [
      "62/62 [==============================] - 0s 2ms/step\n",
      "62/62 [==============================] - 0s 2ms/step\n"
     ]
    }
   ],
   "source": [
    "r2scores = [r2]\n",
    "for i in range(3):\n",
    "    x_train, x_test, y_train, y_test = train_test_split(grades_df['review'],grades_df['num_grades'],\n",
    "                                   test_size=0.15, \n",
    "                                   shuffle=True)\n",
    "    \n",
    "    x_train = np.array(x_train)\n",
    "    y_train = np.array(y_train)\n",
    "    x_test = np.array(x_test)\n",
    "    y_test = np.array(y_test)\n",
    "    \n",
    "    text_reg = TextRegressor(overwrite=True, max_trials=10)\n",
    "    text_reg.fit(x_train, y_train, epochs=5)\n",
    "    r2scores.append(r2_score(y_test, text_reg.predict(x_test)))"
   ]
  },
  {
   "cell_type": "code",
   "execution_count": 39,
   "id": "6b3010b5",
   "metadata": {},
   "outputs": [
    {
     "name": "stdout",
     "output_type": "stream",
     "text": [
      "-0.15083317490656\n"
     ]
    }
   ],
   "source": [
    "print(sum(r2scores)/len(r2scores))"
   ]
  },
  {
   "cell_type": "markdown",
   "id": "7d9c09b0-7040-4248-8316-f20cc369dd76",
   "metadata": {},
   "source": [
    "Does this mean there is certainly no way to predict his grade from the review? No, but it does give evidence to my suspicion that doing so is a difficult task, both for a robot and a human.\n",
    "\n",
    "And after nearly 15,000 reviews, Christgau's given fewer than 150 A+'s - and yes, Moby's Play is one of them, though I certainly wouldn't have guessed that from his review."
   ]
  }
 ],
 "metadata": {
  "kernelspec": {
   "display_name": "Python 3 (ipykernel)",
   "language": "python",
   "name": "python3"
  },
  "language_info": {
   "codemirror_mode": {
    "name": "ipython",
    "version": 3
   },
   "file_extension": ".py",
   "mimetype": "text/x-python",
   "name": "python",
   "nbconvert_exporter": "python",
   "pygments_lexer": "ipython3",
   "version": "3.9.15"
  }
 },
 "nbformat": 4,
 "nbformat_minor": 5
}
