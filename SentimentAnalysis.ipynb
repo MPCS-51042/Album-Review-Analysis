{
 "cells": [
  {
   "cell_type": "code",
   "execution_count": 42,
   "id": "1934514f-2480-4ab3-a134-f2fcbb7e62fd",
   "metadata": {},
   "outputs": [],
   "source": [
    "from bs4 import BeautifulSoup\n",
    "import requests\n",
    "import pandas as pd\n",
    "import matplotlib.pyplot as plt\n",
    "%matplotlib inline\n",
    "import numpy as np\n",
    "import pickle"
   ]
  },
  {
   "cell_type": "code",
   "execution_count": null,
   "id": "d31d14c5-3d4a-47f9-beb7-e1ccdf080038",
   "metadata": {},
   "outputs": [],
   "source": [
    "with open('SentimentAnalysisData.pickle', 'rb') as handle:\n",
    "    reviews_by_grade = pickle.load(handle)"
   ]
  },
  {
   "cell_type": "code",
   "execution_count": 28,
   "id": "ef59abaa-79be-4cc5-a719-4685f82ca78c",
   "metadata": {},
   "outputs": [],
   "source": [
    "def reviewsByGrade(URL):\n",
    "    '''\n",
    "        DOC STRING\n",
    "    '''\n",
    "    \n",
    "    text = BeautifulSoup(requests.get(URL).content, \"html.parser\").get_text().split(\"\\n\") # get just the text from the URL\n",
    "\n",
    "    try:\n",
    "        text = text[text.index('Follow @rxgau')+5:]\n",
    "\n",
    "    except:\n",
    "        print(URL)\n",
    "    \n",
    "    for i in text:\n",
    "        if len(i) > 100: # we only want the reviews, and we only want reviews of sufficient length (since these are capsule reviews, some are only a few words, and we want to exclude these\n",
    "            review, grade = i.rsplit(' ', 1)\n",
    "            \n",
    "            # convert *** to B, ** to B-, * to C+ - logic assumed from here: https://www.robertchristgau.com/xg/bk-cg90/grades-90s.php\n",
    "            if grade == '***':\n",
    "                grade = 'B'\n",
    "            if grade == '**':\n",
    "                grade = 'B-'\n",
    "            if grade == '*':\n",
    "                grade = 'C+'\n",
    "\n",
    "            if grade in grades: # some reviews are ungraded - don't consider these\n",
    "                if grade not in reviews_by_grade:\n",
    "                    reviews_by_grade[grade] = [review]\n",
    "                else:\n",
    "                    reviews_by_grade[grade].append(review)"
   ]
  },
  {
   "cell_type": "code",
   "execution_count": 29,
   "id": "27f1e89c-5307-471c-9fb0-16dc0ee27fca",
   "metadata": {},
   "outputs": [],
   "source": [
    "global reviews_by_grade\n",
    "reviews_by_grade = {}"
   ]
  },
  {
   "cell_type": "code",
   "execution_count": 30,
   "id": "c470fd75-0b5c-424b-a286-a9b9ca669f78",
   "metadata": {},
   "outputs": [],
   "source": [
    "global grades\n",
    "grades = {\"A+\":97,\n",
    "          \"A\":93,\n",
    "          \"A-\":90,\n",
    "          \"B+\":87,\n",
    "          \"B\":83,\n",
    "          \"B-\":80,\n",
    "          \"C+\":77,\n",
    "          \"C\":73,\n",
    "          \"C-\":70,\n",
    "          \"D+\":67,\n",
    "          \"D\":63,\n",
    "          \"D-\":60,\n",
    "          \"E+\":57,\n",
    "          \"E\":53,\n",
    "          \"E-\":50}"
   ]
  },
  {
   "cell_type": "code",
   "execution_count": 31,
   "id": "c714addb-9586-4b38-92d2-4ae1322e1985",
   "metadata": {},
   "outputs": [],
   "source": [
    "for i in range(1, 10000):\n",
    "    reviewsByGrade(URL = \"https://www.robertchristgau.com/get_artist.php?id=\" + str(i))"
   ]
  },
  {
   "cell_type": "code",
   "execution_count": 36,
   "id": "f5a04dbf-7c21-4116-b37a-0af2c71e5aa5",
   "metadata": {},
   "outputs": [
    {
     "data": {
      "text/plain": [
       "['B+',\n",
       " 'B',\n",
       " 'D+',\n",
       " 'B-',\n",
       " 'C',\n",
       " 'C+',\n",
       " 'A-',\n",
       " 'A',\n",
       " 'A+',\n",
       " 'D',\n",
       " 'C-',\n",
       " 'E',\n",
       " 'E+',\n",
       " 'D-',\n",
       " 'E-']"
      ]
     },
     "execution_count": 36,
     "metadata": {},
     "output_type": "execute_result"
    }
   ],
   "source": [
    "list(reviews_by_grade.keys())"
   ]
  },
  {
   "cell_type": "code",
   "execution_count": 34,
   "id": "ba147d88-5a1e-47ab-8428-4e409a985c1e",
   "metadata": {},
   "outputs": [],
   "source": [
    "with open('SentimentAnalysisData.pickle', 'wb') as handle:\n",
    "    pickle.dump(reviews_by_grade, handle, protocol=pickle.HIGHEST_PROTOCOL)"
   ]
  },
  {
   "cell_type": "code",
   "execution_count": 39,
   "id": "738f7986-0fe5-455a-ad0e-1f3b4f628f81",
   "metadata": {},
   "outputs": [
    {
     "name": "stdout",
     "output_type": "stream",
     "text": [
      "A 897\n",
      "A+ 121\n",
      "A- 3349\n",
      "B 2102\n",
      "B+ 2213\n",
      "B- 1975\n",
      "C 417\n",
      "C+ 1693\n",
      "C- 229\n",
      "D 57\n",
      "D+ 91\n",
      "D- 19\n",
      "E 13\n",
      "E+ 4\n",
      "E- 2\n",
      "total: 13182\n"
     ]
    }
   ],
   "source": [
    "# let's see how many reviews we have per grade\n",
    "sum = 0\n",
    "for grade in sorted(list(reviews_by_grade.keys())):\n",
    "    length = len(reviews_by_grade[grade])\n",
    "    print(grade, length)\n",
    "    sum += length\n",
    "\n",
    "print(f'total: {sum}')"
   ]
  },
  {
   "cell_type": "code",
   "execution_count": 41,
   "id": "5ba0cfae-6658-4288-acef-8e59b618027c",
   "metadata": {},
   "outputs": [
    {
     "data": {
      "text/plain": [
       "(4367, 6290, 2525)"
      ]
     },
     "execution_count": 41,
     "metadata": {},
     "output_type": "execute_result"
    }
   ],
   "source": [
    "897+121+3349, 2102+2213+1975, 417+1693+229+57+91+19+13+4+2"
   ]
  },
  {
   "cell_type": "code",
   "execution_count": null,
   "id": "2b930eee-491a-4b0a-8455-e5b872c60975",
   "metadata": {},
   "outputs": [],
   "source": []
  }
 ],
 "metadata": {
  "kernelspec": {
   "display_name": "Python 3 (ipykernel)",
   "language": "python",
   "name": "python3"
  },
  "language_info": {
   "codemirror_mode": {
    "name": "ipython",
    "version": 3
   },
   "file_extension": ".py",
   "mimetype": "text/x-python",
   "name": "python",
   "nbconvert_exporter": "python",
   "pygments_lexer": "ipython3",
   "version": "3.9.12"
  }
 },
 "nbformat": 4,
 "nbformat_minor": 5
}
