{
 "cells": [
  {
   "cell_type": "code",
   "execution_count": 62,
   "id": "88042d2f-1802-4823-bcc3-69ef52e0f4bc",
   "metadata": {},
   "outputs": [],
   "source": [
    "from bs4 import BeautifulSoup\n",
    "import requests\n",
    "import pandas as pd"
   ]
  },
  {
   "cell_type": "code",
   "execution_count": 65,
   "id": "10d72650-6275-4650-b5c7-ff4a1f6b9687",
   "metadata": {},
   "outputs": [],
   "source": [
    "def reviewsByGrade(URL):\n",
    "    '''\n",
    "        WRITE DOC STRING\n",
    "    '''\n",
    "    \n",
    "    text = BeautifulSoup(requests.get(URL).content, \"html.parser\").get_text().split(\"\\n\") # get just the text from the URL\n",
    "    try:\n",
    "        text = text[text.index('Follow @rxgau')+5:text.index('Consumer Guide Index by Grade')]\n",
    "    except:\n",
    "        print(URL)\n",
    "\n",
    "    try:\n",
    "        text.remove('Compilations/Soundtracks')\n",
    "    except:\n",
    "        pass\n",
    "\n",
    "    reviews = [] # get reviews for one grade\n",
    "\n",
    "    for i in range(1, len(text)-1):\n",
    "        if (text[i] != '') and (text[i+1] != ''):\n",
    "            reviews.append(text[i] + \" \" + text[i+1]) # to get the albums\n",
    "        elif (text[i-1] == '') and (text[i] != '') and (text[i+1] == ''):\n",
    "            reviews.append(text[i]) # to get the compliations/soundtracks, which are only on one line\n",
    "\n",
    "    reviews[0] = reviews[0].replace('Consumer Guide Grade List: ', '').split(' ', 1)[0] # pull the grade\n",
    "\n",
    "    grade = reviews[0]\n",
    "    reviews = reviews[1:]\n",
    "    \n",
    "    # convert *** to B, ** to B-, * to C+ - logic assumed from here: https://www.robertchristgau.com/xg/bk-cg90/grades-90s.php\n",
    "    if grade == '***':\n",
    "        grade = 'B'\n",
    "    if grade == '**':\n",
    "        grade = 'B-'\n",
    "    if grade == '*':\n",
    "        grade = 'C+'\n",
    "\n",
    "    reviews_parsed = []\n",
    "    for review in reviews:\n",
    "        try:\n",
    "            reviews_parsed.append((review.split(' [')[0], # get the artist and album\n",
    "                                   int(review.split(' [')[1].split(',')[0]))) # get the year and make it an integer\n",
    "            \n",
    "            grades_by_review[(review.split(' [')[0],\n",
    "                                   int(review.split(' [')[1].split(',')[0]))] = grade\n",
    "        except Exception as e: \n",
    "            if 'invalid literal' in str(e): # for the cases in which the album name has a '[' in it\n",
    "                reviews_parsed.append(((' ['.join(test.split(' [')[:2]), \n",
    "                                        int(' ['.join(test.split(' [')[2:]).split(',')[0]))))\n",
    "                                       \n",
    "                grades_by_review[((' ['.join(test.split(' [')[:2]), \n",
    "                                   int(' ['.join(test.split(' [')[2:]).split(',')[0])))] = grade\n",
    "            else: # deal with other errors manually\n",
    "                print(e)\n",
    "                print(grade)\n",
    "                print(URL)\n",
    "                print(review)\n",
    "                print()\n",
    "    \n",
    "    if grade not in reviews_by_grade:\n",
    "        reviews_by_grade[grade] = reviews_parsed\n",
    "    else: # this is so we add the \"star\" reviews to the converted grades\n",
    "        reviews_by_grade[grade] = reviews_by_grade[grade] + reviews_parsed"
   ]
  },
  {
   "cell_type": "code",
   "execution_count": 66,
   "id": "e6b630a2-abd7-4637-84f8-2aef327e7439",
   "metadata": {},
   "outputs": [],
   "source": [
    "URLs = [\"https://www.robertchristgau.com/get_gl.php?g=A%2B\", #A+\n",
    "        \"https://www.robertchristgau.com/get_gl.php?g=A\", #A\n",
    "        \"https://www.robertchristgau.com/get_gl.php?g=A-\", #A-\n",
    "        \"https://www.robertchristgau.com/get_gl.php?g=B%2B\", #B+\n",
    "        \"https://www.robertchristgau.com/get_gl.php?g=B\", #B\n",
    "        \"https://www.robertchristgau.com/get_gl.php?g=***\", #B\n",
    "        \"https://www.robertchristgau.com/get_gl.php?g=B-\", #B-\n",
    "        \"https://www.robertchristgau.com/get_gl.php?g=**\", #B-\n",
    "        \"https://www.robertchristgau.com/get_gl.php?g=C%2B\", #C+\n",
    "        \"https://www.robertchristgau.com/get_gl.php?g=*\", #C+\n",
    "        \"https://www.robertchristgau.com/get_gl.php?g=C\", #C\n",
    "        \"https://www.robertchristgau.com/get_gl.php?g=C-\", #C-\n",
    "        \"https://www.robertchristgau.com/get_gl.php?g=D%2B\", #D+\n",
    "        \"https://www.robertchristgau.com/get_gl.php?g=D\", #D\n",
    "        \"https://www.robertchristgau.com/get_gl.php?g=D-\", #D-\n",
    "        \"https://www.robertchristgau.com/get_gl.php?g=E%2B\", #E+\n",
    "        \"https://www.robertchristgau.com/get_gl.php?g=E\", #E\n",
    "        \"https://www.robertchristgau.com/get_gl.php?g=E-\"] #E-"
   ]
  },
  {
   "cell_type": "code",
   "execution_count": 67,
   "id": "68ca82e1-4cbd-4adc-b3e7-bed638f97d36",
   "metadata": {},
   "outputs": [
    {
     "name": "stdout",
     "output_type": "stream",
     "text": [
      "list index out of range\n",
      "B+\n",
      "https://www.robertchristgau.com/get_gl.php?g=B%2B\n",
      "Tim Heidecker: Too Dumb for Suicide: Tim Heidecker's Trump\n",
      "\n"
     ]
    }
   ],
   "source": [
    "# create two separate dictionarys - one that has grades as keys, one that has reviews as keys\n",
    "\n",
    "global reviews_by_grade\n",
    "reviews_by_grade = {}\n",
    "\n",
    "global grades_by_review\n",
    "grades_by_review = {}\n",
    "\n",
    "for URL in URLs:\n",
    "    reviewsByGrade(URL)"
   ]
  },
  {
   "cell_type": "code",
   "execution_count": 76,
   "id": "674adebc-8402-486a-becf-cd1636be677e",
   "metadata": {},
   "outputs": [],
   "source": [
    "'''\n",
    "    Since we only have one error, we resolve it manually\n",
    "'''\n",
    "\n",
    "reviews_by_grade[\"B+\"] = reviews_by_grade[\"B+\"] + [(\"Tim Heidecker: Too Dumb for Suicide: Tim Heidecker's Trump Songs\", 2017)]\n",
    "grades_by_review[(\"Tim Heidecker: Too Dumb for Suicide: Tim Heidecker's Trump Songs\", 2017)] = \"B+\""
   ]
  }
 ],
 "metadata": {
  "kernelspec": {
   "display_name": "Python 3 (ipykernel)",
   "language": "python",
   "name": "python3"
  },
  "language_info": {
   "codemirror_mode": {
    "name": "ipython",
    "version": 3
   },
   "file_extension": ".py",
   "mimetype": "text/x-python",
   "name": "python",
   "nbconvert_exporter": "python",
   "pygments_lexer": "ipython3",
   "version": "3.9.12"
  }
 },
 "nbformat": 4,
 "nbformat_minor": 5
}
