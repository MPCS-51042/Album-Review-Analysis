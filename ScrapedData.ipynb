{
 "cells": [
  {
   "cell_type": "code",
   "execution_count": 87,
   "id": "88042d2f-1802-4823-bcc3-69ef52e0f4bc",
   "metadata": {},
   "outputs": [],
   "source": [
    "from bs4 import BeautifulSoup\n",
    "import requests\n",
    "import pandas as pd\n",
    "import matplotlib.pyplot as plt\n",
    "import numpy as np"
   ]
  },
  {
   "cell_type": "code",
   "execution_count": 7,
   "id": "10d72650-6275-4650-b5c7-ff4a1f6b9687",
   "metadata": {},
   "outputs": [],
   "source": [
    "def reviewsByGrade(URL):\n",
    "    '''\n",
    "        WRITE DOC STRING\n",
    "    '''\n",
    "    \n",
    "    text = BeautifulSoup(requests.get(URL).content, \"html.parser\").get_text().split(\"\\n\") # get just the text from the URL\n",
    "    try:\n",
    "        text = text[text.index('Follow @rxgau')+5:text.index('Consumer Guide Index by Grade')]\n",
    "    except:\n",
    "        print(URL)\n",
    "\n",
    "    try:\n",
    "        text.remove('Compilations/Soundtracks')\n",
    "    except:\n",
    "        pass\n",
    "\n",
    "    reviews = [] # get reviews for one grade\n",
    "\n",
    "    for i in range(1, len(text)-1):\n",
    "        if (text[i] != '') and (text[i+1] != ''):\n",
    "            reviews.append(text[i] + \" \" + text[i+1]) # to get the albums\n",
    "        elif (text[i-1] == '') and (text[i] != '') and (text[i+1] == ''):\n",
    "            reviews.append(text[i]) # to get the compliations/soundtracks, which are only on one line\n",
    "\n",
    "    reviews[0] = reviews[0].replace('Consumer Guide Grade List: ', '').split(' ', 1)[0] # pull the grade\n",
    "\n",
    "    grade = reviews[0]\n",
    "    reviews = reviews[1:]\n",
    "    \n",
    "    # convert *** to B, ** to B-, * to C+ - logic assumed from here: https://www.robertchristgau.com/xg/bk-cg90/grades-90s.php\n",
    "    if grade == '***':\n",
    "        grade = 'B'\n",
    "    if grade == '**':\n",
    "        grade = 'B-'\n",
    "    if grade == '*':\n",
    "        grade = 'C+'\n",
    "\n",
    "    reviews_parsed = []\n",
    "    years = []\n",
    "    for review in reviews:\n",
    "        try:\n",
    "            reviews_parsed.append((review.split(' [')[0], # get the artist and album\n",
    "                                   int(review.split(' [')[1].split(',')[0]))) # get the year and make it an integer\n",
    "            \n",
    "            grades_by_review[(review.split(' [')[0],\n",
    "                                   int(review.split(' [')[1].split(',')[0]))] = grade\n",
    "            \n",
    "            if int(review.split(' [')[1].split(',')[0]) not in grades_by_year:\n",
    "                grades_by_year[int(review.split(' [')[1].split(',')[0])] = [grade]\n",
    "            else:\n",
    "                grades_by_year[int(review.split(' [')[1].split(',')[0])].append(grade)\n",
    "            \n",
    "            years.append(int(review.split(' [')[1].split(',')[0]))\n",
    "        except Exception as e: \n",
    "            if 'invalid literal' in str(e): # for the cases in which the album name has a '[' in it\n",
    "                reviews_parsed.append(((' ['.join(review.split(' [')[:2]), \n",
    "                                        int(' ['.join(review.split(' [')[2:]).split(',')[0]))))\n",
    "                                       \n",
    "                grades_by_review[((' ['.join(review.split(' [')[:2]), \n",
    "                                   int(' ['.join(review.split(' [')[2:]).split(',')[0])))] = grade\n",
    "                \n",
    "                if int(' ['.join(review.split(' [')[2:]).split(',')[0]) not in grades_by_year:\n",
    "                    grades_by_year[int(' ['.join(review.split(' [')[2:]).split(',')[0])] = [grade]\n",
    "                else:\n",
    "                    grades_by_year[int(' ['.join(review.split(' [')[2:]).split(',')[0])].append(grade)\n",
    "                \n",
    "                years.append(int(' ['.join(review.split(' [')[2:]).split(',')[0]))\n",
    "            else: # deal with other errors manually\n",
    "                print(e)\n",
    "                print(grade)\n",
    "                print(URL)\n",
    "                print(review)\n",
    "                print()\n",
    "    \n",
    "    if grade not in reviews_by_grade:\n",
    "        reviews_by_grade[grade] = reviews_parsed\n",
    "        years_by_grade[grade] = years\n",
    "    else: # this is so we add the \"star\" reviews to the converted grades\n",
    "        reviews_by_grade[grade] = reviews_by_grade[grade] + reviews_parsed"
   ]
  },
  {
   "cell_type": "code",
   "execution_count": 8,
   "id": "e6b630a2-abd7-4637-84f8-2aef327e7439",
   "metadata": {},
   "outputs": [],
   "source": [
    "URLs = [\"https://www.robertchristgau.com/get_gl.php?g=A%2B\", #A+\n",
    "        \"https://www.robertchristgau.com/get_gl.php?g=A\", #A\n",
    "        \"https://www.robertchristgau.com/get_gl.php?g=A-\", #A-\n",
    "        \"https://www.robertchristgau.com/get_gl.php?g=B%2B\", #B+\n",
    "        \"https://www.robertchristgau.com/get_gl.php?g=B\", #B\n",
    "        \"https://www.robertchristgau.com/get_gl.php?g=***\", #B\n",
    "        \"https://www.robertchristgau.com/get_gl.php?g=B-\", #B-\n",
    "        \"https://www.robertchristgau.com/get_gl.php?g=**\", #B-\n",
    "        \"https://www.robertchristgau.com/get_gl.php?g=C%2B\", #C+\n",
    "        \"https://www.robertchristgau.com/get_gl.php?g=*\", #C+\n",
    "        \"https://www.robertchristgau.com/get_gl.php?g=C\", #C\n",
    "        \"https://www.robertchristgau.com/get_gl.php?g=C-\", #C-\n",
    "        \"https://www.robertchristgau.com/get_gl.php?g=D%2B\", #D+\n",
    "        \"https://www.robertchristgau.com/get_gl.php?g=D\", #D\n",
    "        \"https://www.robertchristgau.com/get_gl.php?g=D-\", #D-\n",
    "        \"https://www.robertchristgau.com/get_gl.php?g=E%2B\", #E+\n",
    "        \"https://www.robertchristgau.com/get_gl.php?g=E\", #E\n",
    "        \"https://www.robertchristgau.com/get_gl.php?g=E-\"] #E-"
   ]
  },
  {
   "cell_type": "code",
   "execution_count": 9,
   "id": "68ca82e1-4cbd-4adc-b3e7-bed638f97d36",
   "metadata": {},
   "outputs": [
    {
     "name": "stdout",
     "output_type": "stream",
     "text": [
      "list index out of range\n",
      "B+\n",
      "https://www.robertchristgau.com/get_gl.php?g=B%2B\n",
      "Tim Heidecker: Too Dumb for Suicide: Tim Heidecker's Trump\n",
      "\n"
     ]
    }
   ],
   "source": [
    "# create four separate dictionarys\n",
    "# we might not end up using all of them, but since we only have to call this once, it's worth the extra computation time just in case we want different representations of the data\n",
    "\n",
    "global reviews_by_grade\n",
    "reviews_by_grade = {}\n",
    "\n",
    "global years_by_grade\n",
    "years_by_grade = {}\n",
    "\n",
    "global grades_by_year\n",
    "grades_by_year = {}\n",
    "\n",
    "global grades_by_review\n",
    "grades_by_review = {}\n",
    "\n",
    "for URL in URLs:\n",
    "    reviewsByGrade(URL)"
   ]
  },
  {
   "cell_type": "code",
   "execution_count": 13,
   "id": "674adebc-8402-486a-becf-cd1636be677e",
   "metadata": {},
   "outputs": [],
   "source": [
    "'''\n",
    "    Since we only have one error, we resolve it manually\n",
    "'''\n",
    "\n",
    "reviews_by_grade[\"B+\"] = reviews_by_grade[\"B+\"] + [(\"Tim Heidecker: Too Dumb for Suicide: Tim Heidecker's Trump Songs\", 2017)]\n",
    "grades_by_review[(\"Tim Heidecker: Too Dumb for Suicide: Tim Heidecker's Trump Songs\", 2017)] = \"B+\"\n",
    "grades_by_year[2017].append(\"B+\")\n",
    "years_by_grade[\"B+\"].append(2017)"
   ]
  },
  {
   "cell_type": "code",
   "execution_count": 43,
   "id": "0870187c-77c5-41a1-bd6e-70c61d94df92",
   "metadata": {},
   "outputs": [
    {
     "data": {
      "text/plain": [
       "[1960, 1962, 1964, 1967, 1968]"
      ]
     },
     "metadata": {},
     "output_type": "display_data"
    },
    {
     "data": {
      "text/plain": [
       "[2017, 2018, 2019, 2020, 2021]"
      ]
     },
     "metadata": {},
     "output_type": "display_data"
    },
    {
     "ename": "KeyError",
     "evalue": "136",
     "output_type": "error",
     "traceback": [
      "\u001b[0;31m---------------------------------------------------------------------------\u001b[0m",
      "\u001b[0;31mKeyError\u001b[0m                                  Traceback (most recent call last)",
      "Input \u001b[0;32mIn [43]\u001b[0m, in \u001b[0;36m<cell line: 11>\u001b[0;34m()\u001b[0m\n\u001b[1;32m      8\u001b[0m display(\u001b[38;5;28msorted\u001b[39m(\u001b[38;5;28mlist\u001b[39m(grades_by_year\u001b[38;5;241m.\u001b[39mkeys()))[\u001b[38;5;241m0\u001b[39m:\u001b[38;5;241m5\u001b[39m])\n\u001b[1;32m      9\u001b[0m display(\u001b[38;5;28msorted\u001b[39m(\u001b[38;5;28mlist\u001b[39m(grades_by_year\u001b[38;5;241m.\u001b[39mkeys()))[\u001b[38;5;241m-\u001b[39m\u001b[38;5;241m5\u001b[39m:])\n\u001b[0;32m---> 11\u001b[0m \u001b[38;5;28;01mdel\u001b[39;00m grades_by_year[\u001b[38;5;241m136\u001b[39m]\n\u001b[1;32m     12\u001b[0m display(\u001b[38;5;28msorted\u001b[39m(\u001b[38;5;28mlist\u001b[39m(grades_by_year\u001b[38;5;241m.\u001b[39mkeys()))[\u001b[38;5;241m0\u001b[39m:\u001b[38;5;241m5\u001b[39m])\n",
      "\u001b[0;31mKeyError\u001b[0m: 136"
     ]
    }
   ],
   "source": [
    "'''\n",
    "for now, we only want grades_by_year in order to test our hypothesis\n",
    "taking a peek at its keys, we notice an incorrect entry - 136 is not a valid year\n",
    "after a manual check at the website, it looks like the year was wrong on the site itself (it was not an issue with our code)\n",
    "we drop the value\n",
    "'''\n",
    "\n",
    "display(sorted(list(grades_by_year.keys()))[0:5])\n",
    "display(sorted(list(grades_by_year.keys()))[-5:])\n",
    "\n",
    "del grades_by_year[136]\n",
    "display(sorted(list(grades_by_year.keys()))[0:5])"
   ]
  },
  {
   "cell_type": "code",
   "execution_count": 53,
   "id": "d2610d49-0be7-4002-b908-28462bb01689",
   "metadata": {},
   "outputs": [],
   "source": [
    "# make a data frame for easier viewing\n",
    "years_df = pd.DataFrame.from_dict(grades_by_year, orient='index').transpose().reindex(sorted(years_df.columns), axis=1)"
   ]
  },
  {
   "cell_type": "code",
   "execution_count": 60,
   "id": "fe4f843f-e7de-4a36-bfc8-04bc5ddd94d3",
   "metadata": {},
   "outputs": [],
   "source": [
    "grades = {\"A+\":97,\n",
    "          \"A\":93,\n",
    "          \"A-\":90,\n",
    "          \"B+\":87,\n",
    "          \"B\":83,\n",
    "          \"B-\":80,\n",
    "          \"C+\":77,\n",
    "          \"C\":73,\n",
    "          \"C-\":70,\n",
    "          \"D+\":67,\n",
    "          \"D\":63,\n",
    "          \"D-\":60,\n",
    "          \"E+\":57,\n",
    "          \"E\":53,\n",
    "          \"E-\":50}"
   ]
  },
  {
   "cell_type": "code",
   "execution_count": 64,
   "id": "54efc236-262f-4dbf-9fde-07cf6e231892",
   "metadata": {},
   "outputs": [],
   "source": [
    "# quantify the grades for analysis\n",
    "years_df_numerical = years_df.replace(grades)"
   ]
  },
  {
   "cell_type": "code",
   "execution_count": 81,
   "id": "075bb880-54fe-42b3-ade2-fc83582e9bbc",
   "metadata": {},
   "outputs": [],
   "source": [
    "# we notice that some years have very few reviews\n",
    "# let's drop the years that have fewer than 30 reviews\n",
    "years_df_numerical = years_df_numerical[years_df_numerical.columns[years_df_numerical.isnull().mean() < 0.8]]"
   ]
  },
  {
   "cell_type": "code",
   "execution_count": 82,
   "id": "2cae5312-153a-4c2c-9391-a4570c55c466",
   "metadata": {},
   "outputs": [],
   "source": [
    "means = pd.DataFrame(years_df_numerical.mean()).reset_index().rename(columns={'index': 'year',0: 'mean'})"
   ]
  },
  {
   "cell_type": "code",
   "execution_count": 90,
   "id": "d6bf7e4d-3cf8-4a5e-8caf-200f0ce46d86",
   "metadata": {},
   "outputs": [
    {
     "data": {
      "image/png": "[encoded data removed]",
      "text/plain": [
       "<Figure size 432x288 with 1 Axes>"
      ]
     },
     "metadata": {
      "needs_background": "light"
     },
     "output_type": "display_data"
    }
   ],
   "source": [
    "# let's visualize the mean distribution of scores across years\n",
    "\n",
    "#create basic scatterplot\n",
    "plt.plot(means['year'], means['mean'], 'o')\n",
    "\n",
    "#obtain m (slope) and b(intercept) of linear regression line\n",
    "m, b = np.polyfit(means['year'], means['mean'], 1)\n",
    "\n",
    "#add linear regression line to scatterplot \n",
    "plt.plot(means['year'], m*means['year']+b)\n",
    "\n",
    "plt.show()"
   ]
  },
  {
   "cell_type": "code",
   "execution_count": null,
   "id": "c8062e9e-dd32-4aae-8ace-0f160993daa9",
   "metadata": {},
   "outputs": [],
   "source": []
  }
 ],
 "metadata": {
  "kernelspec": {
   "display_name": "Python 3 (ipykernel)",
   "language": "python",
   "name": "python3"
  },
  "language_info": {
   "codemirror_mode": {
    "name": "ipython",
    "version": 3
   },
   "file_extension": ".py",
   "mimetype": "text/x-python",
   "name": "python",
   "nbconvert_exporter": "python",
   "pygments_lexer": "ipython3",
   "version": "3.9.12"
  }
 },
 "nbformat": 4,
 "nbformat_minor": 5
}
